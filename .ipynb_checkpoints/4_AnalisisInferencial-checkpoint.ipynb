{
 "cells": [
  {
   "cell_type": "code",
   "execution_count": 3,
   "id": "99b82028-e8f9-47a4-8b47-d9c9306d6c8b",
   "metadata": {},
   "outputs": [
    {
     "name": "stdout",
     "output_type": "stream",
     "text": [
      "Prueba t de Student para AMD e Intel:\n",
      "Estadístico t: -15.163\n",
      "Valor p: 0.000\n",
      "Rechazamos la hipótesis nula (H₀). Hay una diferencia significativa entre las medias.\n"
     ]
    }
   ],
   "source": [
    "import pandas as pd\n",
    "import numpy as np\n",
    "from scipy.stats import ttest_ind\n",
    "\n",
    "# Cargar el archivo\n",
    "df = pd.read_csv('chip_dataset.csv')\n",
    "\n",
    "# Limpiar columna de frecuencia\n",
    "df['Freq (MHz)'] = pd.to_numeric(df['Freq (MHz)'], errors='coerce')\n",
    "\n",
    "# Filtrar los datos para AMD e Intel\n",
    "amd_freq = df[df['Vendor'] == 'AMD']['Freq (MHz)'].dropna()\n",
    "intel_freq = df[df['Vendor'] == 'Intel']['Freq (MHz)'].dropna()\n",
    "\n",
    "# Realizar la prueba t de dos muestras\n",
    "t_stat, p_value = ttest_ind(amd_freq, intel_freq, equal_var=False)\n",
    "\n",
    "print(\"Prueba t de Student para AMD e Intel:\")\n",
    "print(f'Estadístico t: {t_stat:.3f}')\n",
    "print(f'Valor p: {p_value:.3f}')\n",
    "\n",
    "# Interpretar los resultados\n",
    "alpha = 0.05\n",
    "if p_value < alpha:\n",
    "    print(\"Rechazamos la hipótesis nula (H₀). Hay una diferencia significativa entre las medias.\")\n",
    "else:\n",
    "    print(\"No podemos rechazar la hipótesis nula (H₀). No hay una diferencia significativa entre las medias.\")\n",
    "\n",
    "\n",
    "\n",
    "# Filtrar datos para al menos tres fabricantes (AMD, Intel, y un tercer fabricante)\n",
    "# Vamos a elegir 'ATI' como el tercer fabricante\n",
    "nvidia_freq = df[df['Vendor'] == 'NVIDIA']['Freq (MHz)'].dropna()\n",
    "\n",
    "# Realizar la prueba ANOVA de una vía\n",
    "f_stat, p_value_anova = f_oneway(amd_freq, intel_freq, nvidia_freq)\n",
    "\n",
    "print(\"\\nPrueba ANOVA para AMD, Intel y NVIDIA:\")\n",
    "print(f'Estadístico F: {f_stat:.3f}')\n",
    "print(f'Valor p: {p_value_anova:.3f}')\n",
    "\n",
    "# Interpretar los resultados de ANOVA\n",
    "if p_value_anova < alpha:\n",
    "    print(\"Rechazamos la hipótesis nula (H₀). Hay al menos una diferencia significativa entre las medias de los grupos.\")\n",
    "else:\n",
    "    print(\"No podemos rechazar la hipótesis nula (H₀). No hay diferencias significativas entre las medias de los grupos.\")"
   ]
  },
  {
   "cell_type": "code",
   "execution_count": null,
   "id": "ccebd027-a790-4332-a780-fec21655318a",
   "metadata": {},
   "outputs": [],
   "source": []
  }
 ],
 "metadata": {
  "kernelspec": {
   "display_name": "Python 3 (ipykernel)",
   "language": "python",
   "name": "python3"
  },
  "language_info": {
   "codemirror_mode": {
    "name": "ipython",
    "version": 3
   },
   "file_extension": ".py",
   "mimetype": "text/x-python",
   "name": "python",
   "nbconvert_exporter": "python",
   "pygments_lexer": "ipython3",
   "version": "3.13.2"
  }
 },
 "nbformat": 4,
 "nbformat_minor": 5
}
